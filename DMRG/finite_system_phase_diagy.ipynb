{
 "cells": [
  {
   "cell_type": "code",
   "execution_count": 1,
   "metadata": {},
   "outputs": [],
   "source": [
    "#!/usr/bin/env python\n",
    "#\n",
    "# Simple DMRG tutorial.  This code integrates the following concepts:\n",
    "#  - Infinite system algorithm\n",
    "#  - Finite system algorithm\n",
    "#\n",
    "# Copyright 2013 James R. Garrison and Ryan V. Mishmash.\n",
    "# Open source under the MIT license.  Source code at\n",
    "# <https://github.com/simple-dmrg/simple-dmrg/>\n",
    "\n",
    "# This code will run under any version of Python >= 2.6.  The following line\n",
    "# provides consistency between python2 and python3.\n",
    "from __future__ import print_function, division  # requires Python >= 2.6\n",
    "\n",
    "# numpy and scipy imports\n",
    "import matplotlib.pyplot as plt\n",
    "import numpy as np\n",
    "from scipy.sparse import kron, identity\n",
    "from scipy.sparse.linalg import eigsh  # Lanczos routine from ARPACK\n",
    "from scipy.linalg import logm\n",
    "from IPython.display import clear_output\n",
    "\n",
    "# We will use python's \"namedtuple\" to represent the Block and EnlargedBlock\n",
    "# objects\n",
    "from collections import namedtuple\n",
    "\n",
    "def is_valid_block(block):\n",
    "    for op in block.operator_dict.values():\n",
    "        if op.shape[0] != block.basis_size or op.shape[1] != block.basis_size:\n",
    "            return False\n",
    "    return True\n",
    "\n",
    "# This function should test the same exact things, so there is no need to\n",
    "# repeat its definition.\n",
    "is_valid_enlarged_block = is_valid_block\n",
    "\n",
    "def get_von_neuman_entr(rho):\n",
    "    \"\"\"\n",
    "    returns the von neuman entropy of a density matrix rho\n",
    "    \"\"\"\n",
    "    return - np.trace(rho.dot(logm(rho)))\n",
    "\n",
    "Block = namedtuple(\"Block\", [\"length\", \"basis_size\", \"operator_dict\"])\n",
    "EnlargedBlock = namedtuple(\"EnlargedBlock\", [\"length\", \"basis_size\", \"operator_dict\"])\n",
    "\n",
    "class bose_Hubbard:\n",
    "    def __init__(self, N_max, J=1, mu=1, U=1, filling=1, g=1) -> None:\n",
    "        self.N_max = N_max\n",
    "        self.J = J\n",
    "        self.mu = mu\n",
    "        self.U = U\n",
    "        self.b = np.diag(np.sqrt(np.arange(1, N_max)), k=1)\n",
    "        self.b_dag = self.b.transpose()\n",
    "        self.n_op = np.diag(np.arange(0,N_max))\n",
    "        self.p_N = np.zeros([N_max, N_max], dtype=\"d\")\n",
    "        #self.p_N[1, 1] = 1\n",
    "        self.filling = filling\n",
    "        self.g = g\n",
    "        \n",
    "        self.H1 = U/2 * np.matmul(self.n_op, self.n_op - identity(N_max)) - mu * self.n_op\n",
    "\n",
    "        self.initial_block = Block(length=1, basis_size=N_max, operator_dict={\n",
    "            \"_H\": self.H1,\n",
    "            \"_b\": self.b,\n",
    "            \"_N\": self.n_op,\n",
    "            #\"_p_N\": self.p_N\n",
    "        })\n",
    "        pass\n",
    "\n",
    "    def H_int(self, b_left, b_right):\n",
    "        return - self.J * ( b_left.transpose().dot( b_right ) + b_right.transpose().dot( b_left ) )\n",
    "        #return J * ( kron(b_l.transpose(), b_r ) + kron( b_r.transpose(), b_l ) )\n",
    "\n",
    "    def enlarge_block(self, block):\n",
    "        \"\"\"This function enlarges the provided Block by a single site, returning an\n",
    "        EnlargedBlock.\n",
    "        \"\"\"\n",
    "        mblock = block.basis_size\n",
    "        o = block.operator_dict\n",
    "\n",
    "        # Create the new operators for the enlarged block.  Our basis becomes a\n",
    "        # Kronecker product of the Block basis and the single-site basis.  NOTE:\n",
    "        # `kron` uses the tensor product convention making blocks of the second\n",
    "        # array scaled by the first.  As such, we adopt this convention for\n",
    "        # Kronecker products throughout the code.\n",
    "        enlarged_operator_dict = {\n",
    "            \"_H\": kron(o[\"_H\"], identity(self.N_max)) + kron(identity(mblock), self.H1) + self.H_int(kron(o[\"_b\"], identity(self.N_max)), kron(identity(mblock), self.b)),\n",
    "            \"_b\": kron(identity(mblock), self.b),\n",
    "            \"_N\": kron(o[\"_N\"], identity(self.N_max)) + kron(identity(mblock), self.n_op),\n",
    "            #\"_p_N\": kron(o[\"_p_N\"], identity(self.N_max)) + kron(identity(mblock), self.p_N)\n",
    "        }\n",
    "\n",
    "        return EnlargedBlock(length=(block.length + 1),\n",
    "                            basis_size=(block.basis_size * self.N_max),\n",
    "                            operator_dict=enlarged_operator_dict)\n",
    "\n",
    "    def rotate_and_truncate(self, operator, transformation_matrix):\n",
    "        \"\"\"Transforms the operator to the new (possibly truncated) basis given by\n",
    "        `transformation_matrix`.\n",
    "        \"\"\"\n",
    "        return transformation_matrix.conjugate().transpose().dot(operator.dot(transformation_matrix))\n",
    "\n",
    "    def single_dmrg_step(self, sys, env, m):\n",
    "        \"\"\"Performs a single DMRG step using `sys` as the system and `env` as the\n",
    "        environment, keeping a maximum of `m` states in the new basis.\n",
    "        \"\"\"\n",
    "        assert is_valid_block(sys)\n",
    "        assert is_valid_block(env)\n",
    "\n",
    "        # Enlarge each block by a single site.\n",
    "        sys_enl = self.enlarge_block(sys)\n",
    "        if sys is env:  # no need to recalculate a second time\n",
    "            env_enl = sys_enl\n",
    "        else:\n",
    "            env_enl = self.enlarge_block(env)\n",
    "\n",
    "        assert is_valid_enlarged_block(sys_enl)\n",
    "        assert is_valid_enlarged_block(env_enl)\n",
    "\n",
    "        # Construct the full superblock Hamiltonian.\n",
    "        m_sys_enl = sys_enl.basis_size\n",
    "        m_env_enl = env_enl.basis_size\n",
    "        sys_enl_op = sys_enl.operator_dict\n",
    "        env_enl_op = env_enl.operator_dict\n",
    "        \n",
    "        superblock_hamiltonian = kron(sys_enl_op[\"_H\"], identity(m_env_enl)) + kron(identity(m_sys_enl), env_enl_op[\"_H\"]) + \\\n",
    "                                self.H_int(kron(sys_enl_op[\"_b\"], identity(m_env_enl)), kron(identity(m_sys_enl) , env_enl_op[\"_b\"]))\n",
    "\n",
    "        # Call ARPACK to find the superblock ground state.  (\"SA\" means find the\n",
    "        # \"smallest in amplitude\" eigenvalue.)\n",
    "        #print(sys_enl_op[\"_p_N\"])\n",
    "        #selecting_N = kron(sys_enl_op[\"_p_N\"], identity(m_env_enl)) + kron(identity(m_sys_enl), env_enl_op[\"_p_N\"])\n",
    "        #superblock_hamiltonian_aus = selecting_N.transpose().conjugate().dot(superblock_hamiltonian.dot(selecting_N))\n",
    "\n",
    "        N_op_glob = kron(sys_enl_op[\"_N\"], identity(m_env_enl)) + kron(identity(m_sys_enl) , env_enl_op[\"_N\"])\n",
    "        L_aus = sys_enl.length + env_enl.length\n",
    "\n",
    "        matrix_aus = int(self.filling*L_aus)*identity(m_env_enl*m_sys_enl) - N_op_glob\n",
    "        #print(\"non-zeros of matrix_aus = \", matrix_aus.nnz)\n",
    "        #rows_, cols_ = matrix_aus.shape\n",
    "        #print(\"zeros of matrix_aus = \", rows_*cols_ - matrix_aus.nnz)\n",
    "        superblock_hamiltonian_aus = superblock_hamiltonian + self.g*matrix_aus.dot(matrix_aus)\n",
    "        #print(\"creato superblok aus\")\n",
    "        (energy,), psi0 = eigsh(superblock_hamiltonian_aus, k=1, which=\"SA\")\n",
    "        print(\"trovato autostato globale, E = %.1f\"%energy)\n",
    "        # Construct the reduced density matrix of the system by tracing out the\n",
    "        # environment\n",
    "        #(energy_max,), psi1 = eigsh(superblock_hamiltonian_aus, k=1, which=\"LA\")\n",
    "        #print(energy, energy_max)\n",
    "\n",
    "        # We want to make the (sys, env) indices correspond to (row, column) of a\n",
    "        # matrix, respectively.  Since the environment (column) index updates most\n",
    "        # quickly in our Kronecker product structure, psi0 is thus row-major (\"C\n",
    "        # style\").\n",
    "        psi0 = psi0.reshape([sys_enl.basis_size, -1], order=\"C\")\n",
    "        rho = np.dot(psi0, psi0.conjugate().transpose())\n",
    "        print(\"calcolata matrice densità del sistema\")\n",
    "        #selecting_N = sys_enl_op[\"_p_N\"].toarray()\n",
    "        #rho = selecting_N.conjugate().transpose().dot(rho).dot(selecting_N)\n",
    "        # get the von neuman entropy of a subsystem with size L_a = L/2\n",
    "        #entropy = get_von_neuman_entr(rho)\n",
    "\n",
    "        # Diagonalize the reduced density matrix and sort the eigenvectors by\n",
    "        # eigenvalue.\n",
    "        evals, evecs = np.linalg.eigh(rho)\n",
    "        possible_eigenstates = []\n",
    "        for eval, evec in zip(evals, evecs.transpose()):\n",
    "            N = evec.dot(sys_enl_op[\"_N\"].dot(evec))\n",
    "            #print(\"eval = \", eval, \" ; N = %.2f\"%N)\n",
    "            #if N > sys_enl.length-0.2 and N < sys_enl.length+0.2:\n",
    "            possible_eigenstates.append((eval, evec))\n",
    "        possible_eigenstates.sort(reverse=True, key=lambda x: x[0])  # largest eigenvalue first\n",
    "\n",
    "        # Build the transformation matrix from the `m` overall most significant\n",
    "        # eigenvectors.\n",
    "        my_m = min(len(possible_eigenstates), m)\n",
    "        transformation_matrix = np.zeros((sys_enl.basis_size, my_m), dtype='d', order='F')\n",
    "        for i, (eval, evec) in enumerate(possible_eigenstates[:my_m]):\n",
    "            transformation_matrix[:, i] = evec\n",
    "\n",
    "        truncation_error = 1 - sum([x[0] for x in possible_eigenstates[:my_m]])\n",
    "        print(\"truncation error:\", truncation_error)\n",
    "\n",
    "        # Rotate and truncate each operator.\n",
    "        new_operator_dict = {}\n",
    "        for name, op in sys_enl.operator_dict.items():\n",
    "            new_operator_dict[name] = self.rotate_and_truncate(op, transformation_matrix)\n",
    "\n",
    "        newblock = Block(length=sys_enl.length,\n",
    "                        basis_size=my_m,\n",
    "                        operator_dict=new_operator_dict)\n",
    "\n",
    "        entropy = np.sum([-i[0]*np.log(i[0]) for i in possible_eigenstates if i[0]>10**(-10)])\n",
    "        #entropy_2 = get_von_neuman_entr(rho)\n",
    "\n",
    "        return newblock, energy, entropy\n",
    "\n",
    "    def graphic(self, sys_block, env_block, sys_label=\"l\"):\n",
    "        \"\"\"Returns a graphical representation of the DMRG step we are about to\n",
    "        perform, using '=' to represent the system sites, '-' to represent the\n",
    "        environment sites, and '**' to represent the two intermediate sites.\n",
    "        \"\"\"\n",
    "        assert sys_label in (\"l\", \"r\")\n",
    "        graphic = (\"=\" * sys_block.length) + \"**\" + (\"-\" * env_block.length)\n",
    "        if sys_label == \"r\":\n",
    "            # The system should be on the right and the environment should be on\n",
    "            # the left, so reverse the graphic.\n",
    "            graphic = graphic[::-1]\n",
    "        return graphic\n",
    "\n",
    "    def infinite_system_algorithm(self, L, m):\n",
    "        block = self.initial_block\n",
    "        # Repeatedly enlarge the system by performing a single DMRG step, using a\n",
    "        # reflection of the current block as the environment.\n",
    "        while 2 * block.length < L:\n",
    "            print(\"L =\", block.length * 2 + 2)\n",
    "            block, energy, _ = self.single_dmrg_step(block, block, m=m)\n",
    "            print(\"E/L =\", energy / (block.length * 2))\n",
    "\n",
    "    def finite_system_algorithm(self, L, m_warmup, m_sweep_list):\n",
    "        assert L % 2 == 0  # require that L is an even number\n",
    "\n",
    "        energies = []\n",
    "        entropies = []\n",
    "        # To keep things simple, this dictionary is not actually saved to disk, but\n",
    "        # we use it to represent persistent storage.\n",
    "        block_disk = {}  # \"disk\" storage for Block objects\n",
    "\n",
    "        # Use the infinite system algorithm to build up to desired size.  Each time\n",
    "        # we construct a block, we save it for future reference as both a left\n",
    "        # (\"l\") and right (\"r\") block, as the infinite system algorithm assumes the\n",
    "        # environment is a mirror image of the system.\n",
    "        block = self.initial_block\n",
    "        block_disk[\"l\", block.length] = block\n",
    "        block_disk[\"r\", block.length] = block\n",
    "        while 2 * block.length < L:\n",
    "            clear_output(wait=True)\n",
    "            # Perform a single DMRG step and save the new Block to \"disk\"\n",
    "            print(block.length)\n",
    "            print(self.J)\n",
    "            print(self.graphic(block, block))\n",
    "            block, energy, entropy = self.single_dmrg_step(block, block, m=m_warmup)\n",
    "            print(\"E/L =\", energy / (block.length * 2))\n",
    "            block_disk[\"l\", block.length] = block\n",
    "            block_disk[\"r\", block.length] = block\n",
    "\n",
    "        # Now that the system is built up to its full size, we perform sweeps using\n",
    "        # the finite system algorithm.  At first the left block will act as the\n",
    "        # system, growing at the expense of the right block (the environment), but\n",
    "        # once we come to the end of the chain these roles will be reversed.\n",
    "        sys_label, env_label = \"l\", \"r\"\n",
    "        sys_block = block; del block  # rename the variable\n",
    "        for m in m_sweep_list:\n",
    "            while True:\n",
    "                # Load the appropriate environment block from \"disk\"\n",
    "                env_block = block_disk[env_label, L - sys_block.length - 2]\n",
    "                if env_block.length == 1:\n",
    "                    # We've come to the end of the chain, so we reverse course.\n",
    "                    sys_block, env_block = env_block, sys_block\n",
    "                    sys_label, env_label = env_label, sys_label\n",
    "\n",
    "                clear_output(wait=True)\n",
    "                print(env_block.length, \"+\", sys_block.length, \"=\", env_block.length+sys_block.length)\n",
    "                # Perform a single DMRG step.\n",
    "                print(self.J)\n",
    "                print(self.graphic(sys_block, env_block, sys_label))\n",
    "                sys_block, energy, entropy = self.single_dmrg_step(sys_block, env_block, m=m)\n",
    "\n",
    "                print(\"E/L =\", energy / L)\n",
    "                \n",
    "                energies.append(energy)\n",
    "                entropies.append(entropy)\n",
    "                # Save the block from this step to disk.\n",
    "                block_disk[sys_label, sys_block.length] = sys_block\n",
    "\n",
    "                # Check whether we just completed a full sweep.\n",
    "                if sys_label == \"l\" and 2 * sys_block.length == L:\n",
    "                    break  # escape from the \"while True\" loop\n",
    "        return np.array(energies), np.array(entropies)\n",
    "#if __name__ == \"__main__\":\n",
    "#    np.set_printoptions(precision=10, suppress=True, threshold=10000, linewidth=300)\n",
    "\n",
    "    #infinite_system_algorithm(L=100, m=20)\n",
    "#    finite_system_algorithm(L=20, m_warmup=20, m_sweep_list=[20, 30, 40, 40])"
   ]
  },
  {
   "attachments": {},
   "cell_type": "markdown",
   "metadata": {},
   "source": [
    "# all fillings"
   ]
  },
  {
   "cell_type": "code",
   "execution_count": 19,
   "metadata": {},
   "outputs": [],
   "source": [
    "U = 1\n",
    "mu = 0\n",
    "Js = np.linspace(0,0.3,10)\n",
    "\n",
    "N_max = 4\n",
    "L = 20\n",
    "m = 10\n",
    "m_sweep =[10]\n",
    "\n",
    "filling = 1/4\n",
    "g = 10\n",
    "\n",
    "delta_E_p = []\n",
    "delta_E_m = []\n",
    "X = []"
   ]
  },
  {
   "cell_type": "code",
   "execution_count": 20,
   "metadata": {},
   "outputs": [
    {
     "name": "stdout",
     "output_type": "stream",
     "text": [
      "9 + 9 = 18\n",
      "0.3\n",
      "=========**---------\n",
      "trovato autostato globale, E = -2.3\n",
      "calcolata matrice densità del sistema\n",
      "truncation error: 1.1719534386278596e-06\n",
      "E/L = -0.11260599667149138\n"
     ]
    }
   ],
   "source": [
    "#for i, filling in enumerate(fillings):\n",
    "for J in Js:\n",
    "    try:\n",
    "        my_DMRG = bose_Hubbard(N_max, J, mu, U, filling=filling, g=g)\n",
    "        ensL, _ = my_DMRG.finite_system_algorithm(L, m, m_sweep)\n",
    "        my_DMRG = bose_Hubbard(N_max, J, mu, U, filling=filling+1/L, g=g)\n",
    "        ensLp, _ = my_DMRG.finite_system_algorithm(L, m, m_sweep)\n",
    "        my_DMRG = bose_Hubbard(N_max, J, mu, U, filling=filling-1/L, g=g)\n",
    "        ensLm, _ = my_DMRG.finite_system_algorithm(L, m, m_sweep)\n",
    "\n",
    "        delta_E_p.append(ensLp[-1] - ensL[-1])\n",
    "        delta_E_m.append(ensL[-1] - ensLm[-1])\n",
    "        X.append(J)\n",
    "    except:\n",
    "        pass"
   ]
  },
  {
   "cell_type": "code",
   "execution_count": 21,
   "metadata": {},
   "outputs": [
    {
     "data": {
      "text/plain": [
       "[<matplotlib.lines.Line2D at 0x12dfcf9d0>]"
      ]
     },
     "execution_count": 21,
     "metadata": {},
     "output_type": "execute_result"
    },
    {
     "data": {
      "image/png": "[encoded data removed]",
      "text/plain": [
       "<Figure size 640x480 with 1 Axes>"
      ]
     },
     "metadata": {},
     "output_type": "display_data"
    }
   ],
   "source": [
    "plt.plot(ensL)"
   ]
  },
  {
   "cell_type": "code",
   "execution_count": 22,
   "metadata": {},
   "outputs": [
    {
     "data": {
      "image/png": "[encoded data removed]",
      "text/plain": [
       "<Figure size 640x480 with 1 Axes>"
      ]
     },
     "metadata": {},
     "output_type": "display_data"
    }
   ],
   "source": [
    "plt.plot(X, delta_E_p, \"o\")\n",
    "plt.plot(X, delta_E_m, \"o\")\n",
    "plt.show()"
   ]
  },
  {
   "cell_type": "code",
   "execution_count": null,
   "metadata": {},
   "outputs": [],
   "source": []
  },
  {
   "cell_type": "code",
   "execution_count": null,
   "metadata": {},
   "outputs": [],
   "source": []
  },
  {
   "cell_type": "code",
   "execution_count": 23,
   "metadata": {},
   "outputs": [],
   "source": [
    "file = open(\"dati/phase_diag__Nmax4_m10_g10_1-4\", \"w\")"
   ]
  },
  {
   "cell_type": "code",
   "execution_count": 24,
   "metadata": {},
   "outputs": [],
   "source": [
    "for i, J in enumerate(X):\n",
    "    file.write(str(J))\n",
    "    file.write(\" \")\n",
    "    file.write(str(delta_E_p[i]))\n",
    "    file.write(\" \")\n",
    "    file.write(str(delta_E_m[i]))\n",
    "    file.write(\"\\n\")"
   ]
  },
  {
   "cell_type": "code",
   "execution_count": 25,
   "metadata": {},
   "outputs": [],
   "source": [
    "file.close()"
   ]
  },
  {
   "attachments": {},
   "cell_type": "markdown",
   "metadata": {},
   "source": [
    "# rational filling"
   ]
  },
  {
   "cell_type": "code",
   "execution_count": 2,
   "metadata": {},
   "outputs": [],
   "source": [
    "U = 1\n",
    "mu = 0\n",
    "Js = np.linspace(0,0.3,5)\n",
    "\n",
    "N_max = 4\n",
    "L = 20\n",
    "m = 10\n",
    "m_sweep =[10]\n",
    "\n",
    "filling = 1/2\n",
    "\n",
    "delta_E_p = []\n",
    "delta_E_m = []"
   ]
  },
  {
   "cell_type": "code",
   "execution_count": 3,
   "metadata": {},
   "outputs": [
    {
     "name": "stdout",
     "output_type": "stream",
     "text": [
      "9 + 9 = 18\n",
      "=========**---------\n",
      "non-zeros of matrix_aus =  30400\n",
      "zeros of matrix_aus =  2529600\n",
      "creato superblok aus\n",
      "trovato autostato globale\n",
      "calcolata matrice densità del sistema\n",
      "truncation error: 2.3578818945879654e-05\n",
      "E/L = -0.22110414708563647\n"
     ]
    }
   ],
   "source": [
    "for J in Js:\n",
    "    print(J)\n",
    "    my_DMRG = bose_Hubbard(N_max, J, mu, U, filling=filling)\n",
    "    ensL, _ = my_DMRG.finite_system_algorithm(L, m, m_sweep)\n",
    "    my_DMRG = bose_Hubbard(N_max, J, mu, U, filling=filling+1/L)\n",
    "    ensLp, _ = my_DMRG.finite_system_algorithm(L, m, m_sweep)\n",
    "    my_DMRG = bose_Hubbard(N_max, J, mu, U, filling=filling-1/L)\n",
    "    ensLm, _ = my_DMRG.finite_system_algorithm(L, m, m_sweep)\n",
    "\n",
    "    delta_E_p.append(ensLp[-1] - ensL[-1])\n",
    "    delta_E_m.append(ensL[-1] - ensLm[-1])"
   ]
  },
  {
   "cell_type": "code",
   "execution_count": 4,
   "metadata": {},
   "outputs": [
    {
     "data": {
      "image/png": "[encoded data removed]",
      "text/plain": [
       "<Figure size 640x480 with 1 Axes>"
      ]
     },
     "metadata": {},
     "output_type": "display_data"
    }
   ],
   "source": [
    "#delta_E_p = np.array(delta_E_p)\n",
    "#delta_E_m = np.array(delta_E_m)\n",
    "plt.plot(Js, delta_E_p)\n",
    "plt.plot(Js, delta_E_m)\n",
    "plt.show()"
   ]
  },
  {
   "cell_type": "code",
   "execution_count": null,
   "metadata": {},
   "outputs": [],
   "source": []
  }
 ],
 "metadata": {
  "kernelspec": {
   "display_name": "Python 3",
   "language": "python",
   "name": "python3"
  },
  "language_info": {
   "codemirror_mode": {
    "name": "ipython",
    "version": 3
   },
   "file_extension": ".py",
   "mimetype": "text/x-python",
   "name": "python",
   "nbconvert_exporter": "python",
   "pygments_lexer": "ipython3",
   "version": "3.10.2"
  },
  "orig_nbformat": 4,
  "vscode": {
   "interpreter": {
    "hash": "aee8b7b246df8f9039afb4144a1f6fd8d2ca17a180786b69acc140d282b71a49"
   }
  }
 },
 "nbformat": 4,
 "nbformat_minor": 2
}
